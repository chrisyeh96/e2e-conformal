{
 "cells": [
  {
   "cell_type": "code",
   "execution_count": null,
   "metadata": {},
   "outputs": [],
   "source": [
    "import matplotlib.pyplot as plt\n",
    "import pandas as pd\n",
    "import io\n",
    "import seaborn as sns\n",
    "sns.set_style('darkgrid')\n",
    "\n",
    "FIGS_DIR = 'figures_ccai'\n",
    "\n",
    "import os\n",
    "os.makedirs(FIGS_DIR, exist_ok=True)"
   ]
  },
  {
   "cell_type": "code",
   "execution_count": null,
   "metadata": {},
   "outputs": [],
   "source": [
    "COLOR_MAP = {\n",
    "    'ETO-SLL (box)': 'tab:blue',\n",
    "    'ETO-SLL (ellipse)': 'tab:orange',\n",
    "    'ETO-JC (ellipse)': 'tab:green',\n",
    "    'E2E (picnn)': 'tab:red',\n",
    "}"
   ]
  },
  {
   "cell_type": "code",
   "execution_count": null,
   "metadata": {},
   "outputs": [],
   "source": [
    "def plot_task_loss(df: pd.DataFrame, filename: str, optimal: dict[str, float]):\n",
    "    fig, axs = plt.subplots(1, 2, figsize=(8, 2.5), layout='constrained')\n",
    "    alphas = ['0.01', '0.05', '0.1', '0.2']\n",
    "    for i, ax in enumerate(axs):\n",
    "        if i == 0:\n",
    "            setting = 'no distribution shift'\n",
    "            ax.set(ylabel='task loss')\n",
    "        else:\n",
    "            setting = 'with distribution shift'\n",
    "\n",
    "        for model, color in COLOR_MAP.items():\n",
    "            try:\n",
    "                means = df.loc[(setting, model, 'mean'), alphas].values\n",
    "                stds = df.loc[(setting, model, 'std'), alphas].values\n",
    "                ax.plot(range(4), means, label=model, color=color)\n",
    "                ax.fill_between(range(4), means-stds, means+stds, alpha=0.3, color=color)\n",
    "            except:\n",
    "                pass\n",
    "\n",
    "        optimal_val = optimal[setting]\n",
    "        ax.plot((0, 3), (optimal_val, optimal_val), color='black', ls=':', label='optimal')\n",
    "        ax.set(xticks=range(4), xticklabels=alphas, xlabel='$\\\\alpha$', title=setting)\n",
    "\n",
    "    handles, labels = ax.get_legend_handles_labels()\n",
    "    legend = fig.legend(handles, labels, loc='outside right center')\n",
    "    for text in legend.get_texts():\n",
    "        if text.get_text().startswith('E2E'):\n",
    "            text.set_fontweight('bold')\n",
    "    fig.savefig(os.path.join(FIGS_DIR, f'{filename}.pdf'))\n",
    "    fig.savefig(os.path.join(FIGS_DIR, f'{filename}.png'))"
   ]
  },
  {
   "cell_type": "markdown",
   "metadata": {},
   "source": [
    "## Storage task loss"
   ]
  },
  {
   "cell_type": "code",
   "execution_count": null,
   "metadata": {},
   "outputs": [],
   "source": [
    "buf = io.StringIO(\n",
    "\"\"\"\n",
    "setting,model,val,0.01,0.05,0.1,0.2\n",
    "with distribution shift,ETO-SLL (box),mean,-10.867236,-15.960863,-17.455506,-20.217888\n",
    "with distribution shift,ETO-SLL (box),std,3.304253,1.158833,0.917278,1.211853\n",
    "with distribution shift,ETO-SLL (ellipse),mean,-18.244101,-21.993499,-23.686633,-24.497868\n",
    "with distribution shift,ETO-SLL (ellipse),std,2.049533,1.599452,1.661991,1.170572\n",
    "with distribution shift,ETO-JC (ellipse),mean,-4.772606,-16.551971,-20.367132,-22.658602\n",
    "with distribution shift,ETO-JC (ellipse),std,5.942747,2.157322,1.57894,1.204185\n",
    "with distribution shift,E2E (picnn),mean,-27.377843,-29.244593,-30.546455,-30.815375\n",
    "with distribution shift,E2E (picnn),std,2.142963,2.064457,0.465653,0.206176\n",
    "no distribution shift,ETO-SLL (box),mean,-12.880297,-24.462366,-28.001287,-31.287236\n",
    "no distribution shift,ETO-SLL (box),std,7.369936,2.411725,2.636298,1.679142\n",
    "no distribution shift,ETO-SLL (ellipse),mean,-24.20926,-28.872667,-30.773642,-32.595965\n",
    "no distribution shift,ETO-SLL (ellipse),std,3.175815,2.860649,2.523238,1.593281\n",
    "no distribution shift,ETO-JC (ellipse),mean,-9.041665,-27.972709,-33.052322,-35.686457\n",
    "no distribution shift,ETO-JC (ellipse),std,7.61495,1.90364,2.425706,2.212662\n",
    "no distribution shift,E2E (picnn),mean,-39.785395,-40.889996,-42.965304,-43.171177\n",
    "no distribution shift,E2E (picnn),std,1.842494,3.473853,0.101937,0.100933\n",
    "\"\"\")\n",
    "df = pd.read_csv(buf).set_index(['setting', 'model', 'val'])\n",
    "df"
   ]
  },
  {
   "cell_type": "code",
   "execution_count": null,
   "metadata": {},
   "outputs": [],
   "source": [
    "plot_task_loss(\n",
    "    df, filename='taskloss',\n",
    "    optimal={\n",
    "        'with distribution shift': -32.50498588,\n",
    "        'no distribution shift': -45.4994702,\n",
    "    })"
   ]
  }
 ],
 "metadata": {
  "kernelspec": {
   "display_name": "dauq",
   "language": "python",
   "name": "python3"
  },
  "language_info": {
   "codemirror_mode": {
    "name": "ipython",
    "version": 3
   },
   "file_extension": ".py",
   "mimetype": "text/x-python",
   "name": "python",
   "nbconvert_exporter": "python",
   "pygments_lexer": "ipython3",
   "version": "3.12.4"
  }
 },
 "nbformat": 4,
 "nbformat_minor": 2
}
