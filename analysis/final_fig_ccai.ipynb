{
 "cells": [
  {
   "cell_type": "code",
   "execution_count": null,
   "metadata": {},
   "outputs": [],
   "source": [
    "import io\n",
    "import os\n",
    "\n",
    "import matplotlib.pyplot as plt\n",
    "import pandas as pd\n",
    "import seaborn as sns\n",
    "\n",
    "sns.set_style('darkgrid')\n",
    "\n",
    "FIGS_DIR = 'figures_ccai'\n",
    "os.makedirs(FIGS_DIR, exist_ok=True)"
   ]
  },
  {
   "cell_type": "code",
   "execution_count": null,
   "metadata": {},
   "outputs": [],
   "source": [
    "COLOR_MAP = {\n",
    "    'ETO-SLL (box)': 'tab:blue',\n",
    "    'ETO-SLL (ellipse)': 'tab:orange',\n",
    "    'ETO-JC (ellipse)': 'tab:green',\n",
    "    'E2E (picnn)': 'tab:red',\n",
    "}"
   ]
  },
  {
   "cell_type": "code",
   "execution_count": null,
   "metadata": {},
   "outputs": [],
   "source": [
    "def plot_task_loss(df: pd.DataFrame, filename: str, optimal: dict[str, float]):\n",
    "    fig, axs = plt.subplots(1, 2, figsize=(8, 2.5), layout='constrained')\n",
    "    alphas = ['0.01', '0.05', '0.1', '0.2']\n",
    "    for i, ax in enumerate(axs):\n",
    "        if i == 0:\n",
    "            setting = 'no distribution shift'\n",
    "            ax.set(ylabel='task loss')\n",
    "        else:\n",
    "            setting = 'with distribution shift'\n",
    "\n",
    "        for model, color in COLOR_MAP.items():\n",
    "            try:\n",
    "                means = df.loc[(setting, model, 'mean'), alphas].values\n",
    "                stds = df.loc[(setting, model, 'std'), alphas].values\n",
    "                ax.plot(range(4), means, label=model, color=color)\n",
    "                ax.fill_between(range(4), means-stds, means+stds, alpha=0.3, color=color)\n",
    "            except:\n",
    "                pass\n",
    "\n",
    "        optimal_val = optimal[setting]\n",
    "        ax.plot((0, 3), (optimal_val, optimal_val), color='black', ls=':', label='optimal')\n",
    "        ax.set(xticks=range(4), xticklabels=alphas, xlabel='$\\\\alpha$', title=setting)\n",
    "\n",
    "    handles, labels = ax.get_legend_handles_labels()\n",
    "    legend = fig.legend(handles, labels, loc='outside right center')\n",
    "    for text in legend.get_texts():\n",
    "        if text.get_text().startswith('E2E'):\n",
    "            text.set_fontweight('bold')\n",
    "    fig.savefig(os.path.join(FIGS_DIR, f'{filename}.pdf'))\n",
    "    fig.savefig(os.path.join(FIGS_DIR, f'{filename}.png'))"
   ]
  },
  {
   "cell_type": "markdown",
   "metadata": {},
   "source": [
    "## Storage task loss"
   ]
  },
  {
   "cell_type": "code",
   "execution_count": null,
   "metadata": {},
   "outputs": [],
   "source": [
    "buf = io.StringIO(\n",
    "\"\"\"\n",
    "setting,model,val,0.01,0.05,0.1,0.2\n",
    "with distribution shift,ETO-SLL (box),mean,-10.867236,-15.960863,-17.455506,-20.217888\n",
    "with distribution shift,ETO-SLL (box),std,3.304253,1.158833,0.917278,1.211853\n",
    "with distribution shift,ETO-SLL (ellipse),mean,-12.770146,-17.391244,-19.935627,-20.871551\n",
    "with distribution shift,ETO-SLL (ellipse),std,2.172402,1.752889,1.807191,2.315126\n",
    "with distribution shift,ETO-JC (ellipse),mean,-0.004849,-8.52487,-14.341357,-16.935207\n",
    "with distribution shift,ETO-JC (ellipse),std,0.015332,4.948228,3.723592,3.447717\n",
    "with distribution shift,E2E (picnn),mean,-27.377843,-29.244593,-30.546455,-30.815375\n",
    "with distribution shift,E2E (picnn),std,2.142963,2.064457,0.465653,0.206176\n",
    "no distribution shift,ETO-SLL (box),mean,-12.880297,-24.462366,-28.001287,-31.287236\n",
    "no distribution shift,ETO-SLL (box),std,7.369936,2.411725,2.636298,1.679142\n",
    "no distribution shift,ETO-SLL (ellipse),mean,-17.889201,-24.415428,-27.500599,-31.131884\n",
    "no distribution shift,ETO-SLL (ellipse),std,4.362387,4.208463,4.455954,2.612563\n",
    "no distribution shift,ETO-JC (ellipse),mean,-2.638006,-24.262258,-29.659861,-33.462275\n",
    "no distribution shift,ETO-JC (ellipse),std,1.310785,5.448612,4.68547,3.822394\n",
    "no distribution shift,E2E (picnn),mean,-39.785395,-41.294381,-42.965304,-43.171177\n",
    "no distribution shift,E2E (picnn),std,1.842494,2.592749,0.101937,0.100933\n",
    "\"\"\")\n",
    "df = pd.read_csv(buf).set_index(['setting', 'model', 'val'])\n",
    "df"
   ]
  },
  {
   "cell_type": "code",
   "execution_count": null,
   "metadata": {},
   "outputs": [],
   "source": [
    "plot_task_loss(\n",
    "    df, filename='taskloss',\n",
    "    optimal={\n",
    "        'with distribution shift': -32.50498588,\n",
    "        'no distribution shift': -45.4994702,\n",
    "    })"
   ]
  }
 ],
 "metadata": {
  "kernelspec": {
   "display_name": "dauq",
   "language": "python",
   "name": "python3"
  },
  "language_info": {
   "codemirror_mode": {
    "name": "ipython",
    "version": 3
   },
   "file_extension": ".py",
   "mimetype": "text/x-python",
   "name": "python",
   "nbconvert_exporter": "python",
   "pygments_lexer": "ipython3",
   "version": "3.12.4"
  }
 },
 "nbformat": 4,
 "nbformat_minor": 2
}
