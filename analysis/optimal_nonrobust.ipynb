{
 "cells": [
  {
   "cell_type": "markdown",
   "metadata": {},
   "source": [
    "This notebook calculates the optimal non-robust test split task losses for each problem."
   ]
  },
  {
   "cell_type": "code",
   "execution_count": null,
   "metadata": {},
   "outputs": [],
   "source": [
    "%cd ../"
   ]
  },
  {
   "cell_type": "code",
   "execution_count": null,
   "metadata": {},
   "outputs": [],
   "source": [
    "import matplotlib.pyplot as plt\n",
    "import numpy as np\n",
    "import pandas as pd"
   ]
  },
  {
   "cell_type": "markdown",
   "metadata": {},
   "source": [
    "## Storage problem"
   ]
  },
  {
   "cell_type": "code",
   "execution_count": null,
   "metadata": {},
   "outputs": [],
   "source": [
    "from storage.data import get_tensors\n",
    "from storage.problems import StorageProblemNonRobust\n",
    "\n",
    "LOG_PRICES = False"
   ]
  },
  {
   "cell_type": "code",
   "execution_count": null,
   "metadata": {},
   "outputs": [],
   "source": [
    "def get_optimal_task_losses(shuffle: bool) -> list[float]:\n",
    "    tensors, y_info = get_tensors(shuffle=shuffle, log_prices=LOG_PRICES)\n",
    "    assert isinstance(y_info, tuple)\n",
    "    y_mean, y_std = y_info\n",
    "\n",
    "    prob = StorageProblemNonRobust(T=24, y_mean=y_mean, y_std=y_std)\n",
    "\n",
    "    task_losses = []\n",
    "    y_test_np = tensors['Y_test'].numpy()\n",
    "    for y in y_test_np:\n",
    "        prob.solve(y)\n",
    "        task_loss = prob.task_loss_np(y, is_standardized=True)\n",
    "        task_losses.append(task_loss)\n",
    "    return task_losses"
   ]
  },
  {
   "cell_type": "code",
   "execution_count": null,
   "metadata": {},
   "outputs": [],
   "source": [
    "shuffle = False\n",
    "task_losses = get_optimal_task_losses(shuffle=shuffle)\n",
    "print(f'Shuffle: {shuffle}, mean test task loss: {np.mean(task_losses)}')\n",
    "\n",
    "_ = plt.hist(task_losses, bins=100)"
   ]
  },
  {
   "cell_type": "code",
   "execution_count": null,
   "metadata": {},
   "outputs": [],
   "source": [
    "shuffle = True\n",
    "task_losses = get_optimal_task_losses(shuffle=shuffle)\n",
    "print(f'Shuffle: {shuffle}, mean test task loss: {np.mean(task_losses)}')\n",
    "\n",
    "_ = plt.hist(task_losses, bins=100)"
   ]
  },
  {
   "cell_type": "markdown",
   "metadata": {},
   "source": [
    "## Portfolio optimization"
   ]
  },
  {
   "cell_type": "code",
   "execution_count": null,
   "metadata": {},
   "outputs": [],
   "source": [
    "from portfolio import synthetic, yfinance\n",
    "from portfolio.problems import PortfolioProblemNonRobust"
   ]
  },
  {
   "cell_type": "code",
   "execution_count": null,
   "metadata": {},
   "outputs": [],
   "source": [
    "def get_optimal_task_losses(seed: int) -> list[float]:\n",
    "    batch_size = 1000\n",
    "    alpha = 0.9  # 0.1\n",
    "    phi = 0.7  # 0.1\n",
    "    loaders, y_info = synthetic.get_loaders(batch_size, seed=seed, alpha=alpha, phi=phi)\n",
    "    assert isinstance(y_info, tuple)\n",
    "    y_mean, y_std = y_info\n",
    "    \n",
    "    prob = PortfolioProblemNonRobust(N=2, y_mean=y_mean, y_std=y_std)\n",
    "\n",
    "    task_losses = []\n",
    "    for _, y in loaders['test']:\n",
    "        y_test_np = y.numpy()\n",
    "        for y in y_test_np:\n",
    "            prob.solve(y)\n",
    "            task_loss = prob.task_loss_np(y, is_standardized=True)\n",
    "            task_losses.append(task_loss)\n",
    "    return task_losses"
   ]
  },
  {
   "cell_type": "code",
   "execution_count": null,
   "metadata": {},
   "outputs": [],
   "source": [
    "results = {}\n",
    "for seed in range(10):\n",
    "    task_losses = get_optimal_task_losses(seed)\n",
    "    results[seed] = np.mean(task_losses)\n",
    "\n",
    "sr = pd.Series(results, name='test_task_loss')\n",
    "sr.index.name = 'seed'\n",
    "sr.to_csv('out/portfolio_syn_optimal.csv')\n",
    "\n",
    "display(sr)\n",
    "display(sr.agg(['mean', 'std']))"
   ]
  },
  {
   "cell_type": "markdown",
   "metadata": {},
   "source": [
    "## Portfolio (yfinance)"
   ]
  },
  {
   "cell_type": "code",
   "execution_count": null,
   "metadata": {},
   "outputs": [],
   "source": [
    "def get_optimal_task_losses(seed: int, shuffle: bool) -> list[float]:\n",
    "    batch_size = 1000\n",
    "    loaders, y_info = yfinance.get_loaders(batch_size, year=2013, seed=seed, shuffled=shuffle)\n",
    "    assert isinstance(y_info, tuple)\n",
    "    y_mean, y_std = y_info\n",
    "    \n",
    "    prob = PortfolioProblemNonRobust(N=15, y_mean=y_mean, y_std=y_std)\n",
    "\n",
    "    task_losses = []\n",
    "    for _, y in loaders['test']:\n",
    "        y_test_np = y.numpy()\n",
    "        for y in y_test_np:\n",
    "            prob.solve(y)\n",
    "            task_loss = prob.task_loss_np(y, is_standardized=True)\n",
    "            task_losses.append(task_loss)\n",
    "    return task_losses"
   ]
  },
  {
   "cell_type": "code",
   "execution_count": null,
   "metadata": {},
   "outputs": [],
   "source": [
    "results = {}\n",
    "for seed in range(10):\n",
    "    task_losses = get_optimal_task_losses(seed=seed, shuffle=False)\n",
    "    results[seed] = np.mean(task_losses)\n",
    "sr = pd.Series(results)\n",
    "print(sr.agg(['mean', 'std']))"
   ]
  },
  {
   "cell_type": "code",
   "execution_count": null,
   "metadata": {},
   "outputs": [],
   "source": [
    "results = {}\n",
    "for seed in range(10):\n",
    "    task_losses = get_optimal_task_losses(seed=seed, shuffle=True)\n",
    "    results[seed] = np.mean(task_losses)\n",
    "sr = pd.Series(results)\n",
    "print(sr.agg(['mean', 'std']))"
   ]
  }
 ],
 "metadata": {
  "kernelspec": {
   "display_name": "dauq",
   "language": "python",
   "name": "python3"
  },
  "language_info": {
   "codemirror_mode": {
    "name": "ipython",
    "version": 3
   },
   "file_extension": ".py",
   "mimetype": "text/x-python",
   "name": "python",
   "nbconvert_exporter": "python",
   "pygments_lexer": "ipython3",
   "version": "3.12.4"
  }
 },
 "nbformat": 4,
 "nbformat_minor": 2
}
