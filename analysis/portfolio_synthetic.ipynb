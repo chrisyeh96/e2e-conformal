{
 "cells": [
  {
   "cell_type": "code",
   "execution_count": null,
   "metadata": {},
   "outputs": [],
   "source": [
    "%load_ext autoreload\n",
    "%autoreload 2\n",
    "\n",
    "%cd ../"
   ]
  },
  {
   "cell_type": "code",
   "execution_count": null,
   "metadata": {},
   "outputs": [],
   "source": [
    "import pandas as pd\n",
    "\n",
    "from analysis.utils import (\n",
    "    # hyperparameters\n",
    "    get_hps_df,\n",
    "    print_best_hp,\n",
    "    plot_hps,\n",
    "\n",
    "    # ETO and E2E results\n",
    "    convert_to_long_df,\n",
    "    get_df,\n",
    "    plot_eto_vs_e2e,\n",
    "    print_best_test_task_loss,\n",
    "    print_eto_results,\n",
    ")"
   ]
  },
  {
   "cell_type": "markdown",
   "metadata": {},
   "source": [
    "## Hyperparameters"
   ]
  },
  {
   "cell_type": "markdown",
   "metadata": {},
   "source": [
    "### Quantile regression"
   ]
  },
  {
   "cell_type": "code",
   "execution_count": null,
   "metadata": {},
   "outputs": [],
   "source": [
    "df = get_hps_df(\n",
    "    'out/portfolio_syn_quantile/hyperparams_a{alpha:.2g}.csv',\n",
    "    alphas=(0.01, 0.05, 0.1, 0.2)\n",
    ")\n",
    "print_best_hp(df, by='alpha')\n",
    "print_best_hp(df, by=['seed', 'alpha'])\n",
    "plot_hps(df, by_alpha=True)"
   ]
  },
  {
   "cell_type": "markdown",
   "metadata": {},
   "source": [
    "### Gaussian regression"
   ]
  },
  {
   "cell_type": "code",
   "execution_count": null,
   "metadata": {},
   "outputs": [],
   "source": [
    "df = get_hps_df('out/portfolio_syn_gaussian/hyperparams.csv')\n",
    "print_best_hp(df, by=None)\n",
    "print_best_hp(df, by=['seed'])\n",
    "plot_hps(df, by_alpha=False)"
   ]
  },
  {
   "cell_type": "markdown",
   "metadata": {},
   "source": [
    "## ETO vs. E2E"
   ]
  },
  {
   "cell_type": "markdown",
   "metadata": {},
   "source": [
    "### Quantile regression"
   ]
  },
  {
   "cell_type": "code",
   "execution_count": null,
   "metadata": {},
   "outputs": [],
   "source": [
    "cols = [\n",
    "    'seed',\n",
    "    'train_pinball_loss', 'train_task_loss',\n",
    "    'train_coverage', 'train_coverage_no_conformal',\n",
    "    'test_pinball_loss', 'test_task_loss',\n",
    "    'test_coverage', 'test_coverage_no_conformal'\n",
    "]"
   ]
  },
  {
   "cell_type": "code",
   "execution_count": null,
   "metadata": {},
   "outputs": [],
   "source": [
    "eto_df = get_df(\n",
    "    fmt_str='out/portfolio_syn_quantile/eto_a{alpha:.2f}.csv',\n",
    "    model='eto', cols=cols,\n",
    "    lrs=None, l2regs=None,\n",
    "    alphas=(0.01, 0.05, 0.1, 0.2),\n",
    ")\n",
    "print_eto_results(eto_df, print_best_hps=False)"
   ]
  },
  {
   "cell_type": "code",
   "execution_count": null,
   "metadata": {},
   "outputs": [],
   "source": [
    "ptc_box_df = get_df(\n",
    "    fmt_str='out/portfolio_syn_ptc/ptc_box_a{alpha:.2f}.csv',\n",
    "    cols=None, model='ptc_box',\n",
    "    alphas=(0.01, 0.05, 0.1, 0.2),\n",
    ")\n",
    "ptc_box_df.groupby('alpha')[['test_task_loss', 'test_coverage']].agg(['mean', 'std'])"
   ]
  },
  {
   "cell_type": "code",
   "execution_count": null,
   "metadata": {},
   "outputs": [],
   "source": [
    "e2e_df = get_df(\n",
    "    fmt_str='out/portfolio_syn_quantile/e2e_finetune_a{alpha:.2f}_lr{lr:.3g}_reg{l2reg:.3g}.csv',\n",
    "    model='e2e', cols=cols + ['val_task_loss'],\n",
    "    lrs=[1e-2, 1e-3, 1e-4],\n",
    "    l2regs=[1e-4],\n",
    "    alphas=(0.01, 0.05, 0.1, 0.2),\n",
    ")\n",
    "print_best_test_task_loss(e2e_df, by='val_task_loss')"
   ]
  },
  {
   "cell_type": "code",
   "execution_count": null,
   "metadata": {},
   "outputs": [],
   "source": [
    "long_df = convert_to_long_df(pd.concat([eto_df, e2e_df]).reset_index())\n",
    "plot_eto_vs_e2e(long_df, num_rows=4)"
   ]
  },
  {
   "cell_type": "markdown",
   "metadata": {},
   "source": [
    "### Gaussian regression"
   ]
  },
  {
   "cell_type": "code",
   "execution_count": null,
   "metadata": {},
   "outputs": [],
   "source": [
    "cols = [\n",
    "    'seed',\n",
    "    'train_nll_loss', 'train_task_loss',\n",
    "    'train_coverage', 'train_coverage_no_conformal',\n",
    "    'test_nll_loss', 'test_task_loss',\n",
    "    'test_coverage', 'test_coverage_no_conformal'\n",
    "]"
   ]
  },
  {
   "cell_type": "code",
   "execution_count": null,
   "metadata": {},
   "outputs": [],
   "source": [
    "eto_df = get_df(\n",
    "    fmt_str='out/portfolio_syn_gaussian/eto_a{alpha:.2f}.csv',\n",
    "    model='eto', cols=cols,\n",
    "    lrs=None, l2regs=None,\n",
    "    alphas=(0.01, 0.05, 0.1, 0.2)\n",
    ")\n",
    "print_eto_results(eto_df)"
   ]
  },
  {
   "cell_type": "code",
   "execution_count": null,
   "metadata": {},
   "outputs": [],
   "source": [
    "ptc_ellipse_df = get_df(\n",
    "    fmt_str='out/portfolio_syn_ptc/ptc_ellipse_a{alpha:.2f}.csv',\n",
    "    cols=None, model='ptc_ellipse',\n",
    "    alphas=(0.01, 0.05, 0.1, 0.2),\n",
    ")\n",
    "ptc_ellipse_df.groupby('alpha')[['test_task_loss', 'test_coverage']].agg(['mean', 'std'])"
   ]
  },
  {
   "cell_type": "code",
   "execution_count": null,
   "metadata": {},
   "outputs": [],
   "source": [
    "ptc_ellipse_johnstone_df = get_df(\n",
    "    fmt_str='out/portfolio_syn_ptc/ptc_ellipse_johnstone_a{alpha:.2f}.csv',\n",
    "    cols=None, model='ptc_ellipse_johnstone',\n",
    "    alphas=(0.01, 0.05, 0.1, 0.2),\n",
    ")\n",
    "ptc_ellipse_johnstone_df.groupby('alpha')[['test_task_loss', 'test_coverage']].agg(['mean', 'std'])"
   ]
  },
  {
   "cell_type": "code",
   "execution_count": null,
   "metadata": {},
   "outputs": [],
   "source": [
    "e2e_df = get_df(\n",
    "    fmt_str='out/portfolio_syn_gaussian/e2e_finetune_a{alpha:.2f}_lr{lr:.3g}_reg{l2reg:.2g}.csv',\n",
    "    model='e2e', cols=cols + ['val_task_loss'],\n",
    "    lrs=[1e-2, 1e-3, 1e-4],\n",
    "    l2regs=[1e-2],\n",
    "    alphas=(0.01, 0.05, 0.1, 0.2)\n",
    ")\n",
    "print_best_test_task_loss(e2e_df, by='val_task_loss')"
   ]
  },
  {
   "cell_type": "code",
   "execution_count": null,
   "metadata": {},
   "outputs": [],
   "source": [
    "long_df = convert_to_long_df(pd.concat([eto_df, e2e_df]).reset_index())\n",
    "plot_eto_vs_e2e(long_df, num_rows=4)"
   ]
  },
  {
   "cell_type": "markdown",
   "metadata": {},
   "source": [
    "### PICNN"
   ]
  },
  {
   "cell_type": "code",
   "execution_count": null,
   "metadata": {},
   "outputs": [],
   "source": [
    "cols = [\n",
    "    'seed', 'train_task_loss', 'train_coverage',\n",
    "    'test_task_loss', 'test_coverage',\n",
    "]"
   ]
  },
  {
   "cell_type": "code",
   "execution_count": null,
   "metadata": {},
   "outputs": [],
   "source": [
    "eto_df = get_df(\n",
    "    fmt_str='out/portfolio_syn_picnn/eto_a{alpha:.2f}_L2_d64_lr{lr:.3g}_reg{l2reg:.3g}.csv',\n",
    "    model='eto', cols=cols,\n",
    "    lrs=[1e-2, 1e-3, 1e-4],\n",
    "    l2regs=[1e-2, 1e-3, 1e-4],\n",
    "    alphas=(0.01, 0.05, 0.1, 0.2)\n",
    ")\n",
    "print_best_test_task_loss(eto_df, by='train_task_loss')"
   ]
  },
  {
   "cell_type": "code",
   "execution_count": null,
   "metadata": {},
   "outputs": [],
   "source": [
    "eto_df = get_df(\n",
    "    fmt_str='out/portfolio_syn_picnn_d128/eto_a{alpha:.2f}_L2_d128_lr{lr:.3g}_reg{l2reg:.3g}.csv',\n",
    "    model='eto', cols=cols,\n",
    "    lrs=[1e-2],\n",
    "    l2regs=[1e-3],\n",
    "    alphas=(0.01, 0.05, 0.1, 0.2)\n",
    ")\n",
    "print_eto_results(eto_df, print_best_hps=True)"
   ]
  },
  {
   "cell_type": "code",
   "execution_count": null,
   "metadata": {},
   "outputs": [],
   "source": [
    "e2e_df = get_df(\n",
    "    fmt_str='out/portfolio_syn_picnn/e2e_finetune_a{alpha:.2f}_L2_d64_lr{lr:.3g}_reg{l2reg:.2g}.csv',\n",
    "    model='e2e', cols=cols + ['val_task_loss'],\n",
    "    lrs=[1e-3, 1e-4],\n",
    "    l2regs=[1e-3],\n",
    "    alphas=(0.01, 0.05, 0.1, 0.2)\n",
    ")\n",
    "print_best_test_task_loss(e2e_df, by='val_task_loss')"
   ]
  },
  {
   "cell_type": "code",
   "execution_count": null,
   "metadata": {},
   "outputs": [],
   "source": [
    "e2e_df = get_df(\n",
    "    fmt_str='out/portfolio_syn_picnn_lrschedule/e2e_finetune_a{alpha:.2f}_L2_d64_lr{lr:.3g}_reg{l2reg:.2g}.csv',\n",
    "    model='e2e', cols=cols + ['val_task_loss'],\n",
    "    lrs=[1e-3],\n",
    "    l2regs=[1e-3],\n",
    "    alphas=(0.05,)\n",
    ")\n",
    "print_best_test_task_loss(e2e_df, by='val_task_loss')"
   ]
  },
  {
   "cell_type": "code",
   "execution_count": null,
   "metadata": {},
   "outputs": [],
   "source": [
    "e2e_df = get_df(\n",
    "    fmt_str='out/portfolio_syn_picnn_d128/e2e_finetune_a{alpha:.2f}_L2_d128_lr{lr:.3g}_reg{l2reg:.2g}.csv',\n",
    "    model='e2e', cols=cols + ['val_task_loss'],\n",
    "    lrs=[5e-3],\n",
    "    l2regs=[1e-3],\n",
    "    alphas=(0.01, 0.05, 0.1, 0.2)\n",
    ")\n",
    "print_best_test_task_loss(e2e_df, by='val_task_loss')"
   ]
  },
  {
   "cell_type": "code",
   "execution_count": null,
   "metadata": {},
   "outputs": [],
   "source": [
    "long_df = convert_to_long_df(pd.concat([eto_df, e2e_df]).reset_index())\n",
    "plot_eto_vs_e2e(long_df, num_rows=2)"
   ]
  }
 ],
 "metadata": {
  "kernelspec": {
   "display_name": "dauq",
   "language": "python",
   "name": "python3"
  },
  "language_info": {
   "codemirror_mode": {
    "name": "ipython",
    "version": 3
   },
   "file_extension": ".py",
   "mimetype": "text/x-python",
   "name": "python",
   "nbconvert_exporter": "python",
   "pygments_lexer": "ipython3",
   "version": "3.12.4"
  }
 },
 "nbformat": 4,
 "nbformat_minor": 2
}
