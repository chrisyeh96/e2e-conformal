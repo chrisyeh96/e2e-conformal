{
 "cells": [
  {
   "cell_type": "code",
   "execution_count": null,
   "metadata": {},
   "outputs": [],
   "source": [
    "import matplotlib.pyplot as plt\n",
    "import pandas as pd\n",
    "import io\n",
    "import seaborn as sns\n",
    "sns.set_style('darkgrid')\n",
    "\n",
    "FIGS_DIR = 'figures_arxiv'\n",
    "\n",
    "import os\n",
    "os.makedirs(FIGS_DIR, exist_ok=True)"
   ]
  },
  {
   "cell_type": "code",
   "execution_count": null,
   "metadata": {},
   "outputs": [],
   "source": [
    "COLOR_MAP = {\n",
    "    'ETO': 'tab:purple',\n",
    "    'ETO-JC': 'tab:green',\n",
    "    'ETO-SLL': 'tab:blue',\n",
    "    'E2E': 'tab:red',\n",
    "}"
   ]
  },
  {
   "cell_type": "code",
   "execution_count": null,
   "metadata": {},
   "outputs": [],
   "source": [
    "def plot_task_loss(df: pd.DataFrame, filename: str, optimal: float | tuple[float, float]):\n",
    "    fig, axs = plt.subplots(1, 3, figsize=(12, 3), sharey=True, layout='constrained')\n",
    "    alphas = ['0.01', '0.05', '0.1', '0.2']\n",
    "    for shape, ax in zip(('box', 'ellipse', 'picnn'), axs):\n",
    "        for model, color in COLOR_MAP.items():\n",
    "            try:\n",
    "                means = df.loc[(model, shape, 'mean'), alphas].values\n",
    "                stds = df.loc[(model, shape, 'std'), alphas].values\n",
    "                ax.plot(range(4), means, label=model, color=color)\n",
    "                ax.fill_between(range(4), means-stds, means+stds, alpha=0.3, color=color)\n",
    "            except:\n",
    "                pass\n",
    "\n",
    "        if isinstance(optimal, (float, int)):\n",
    "            ax.plot((0, 3), (optimal, optimal), color='black', ls=':', label='optimal')\n",
    "        else:\n",
    "            mean, std = optimal\n",
    "            ax.plot((0, 3), (mean, mean), color='black', ls=':', label='optimal')\n",
    "            ax.fill_between((0, 3), mean - std, mean + std, color='black', alpha=0.3)\n",
    "        ax.set(xticks=range(4), xticklabels=alphas, xlabel='uncertainty level $\\\\alpha$', title=shape)\n",
    "        if shape == 'box':\n",
    "            ax.set(ylabel='task loss')\n",
    "\n",
    "    ax = axs[1]\n",
    "    handles, labels = ax.get_legend_handles_labels()\n",
    "    legend = fig.legend(handles, labels, loc='outside right center')\n",
    "    for text in legend.get_texts():\n",
    "        if text.get_text().startswith('E2E'):\n",
    "            text.set_fontweight('bold')\n",
    "    fig.savefig(os.path.join(FIGS_DIR, f'{filename}.pdf'))\n",
    "    fig.savefig(os.path.join(FIGS_DIR, f'{filename}.png'))\n",
    "\n",
    "\n",
    "def plot_task_loss_regret(df: pd.DataFrame, filename: str, optimal: float):\n",
    "    fig, axs = plt.subplots(1, 3, figsize=(12, 3), sharey=True, tight_layout=True)\n",
    "    alphas = ['0.01', '0.05', '0.1', '0.2']\n",
    "    for shape, ax in zip(('box', 'ellipse', 'picnn'), axs):\n",
    "        for model, color in COLOR_MAP.items():\n",
    "            try:\n",
    "                means = df.loc[(model, shape, 'mean'), alphas].values\n",
    "                mean_regret = means - optimal\n",
    "                stds = df.loc[(model, shape, 'std'), alphas].values\n",
    "                ax.plot(range(4), mean_regret, label=model, color=color)\n",
    "                ax.fill_between(range(4), mean_regret-stds, mean_regret+stds, alpha=0.3, color=color)\n",
    "            except:\n",
    "                pass\n",
    "\n",
    "        ax.set(xticks=range(4), xticklabels=alphas, xlabel='$\\\\alpha$', title=shape)\n",
    "        if shape == 'box':\n",
    "            ax.set(ylabel='regret')\n",
    "        ax.legend()\n",
    "    fig.savefig(os.path.join(FIGS_DIR, f'{filename}.pdf'))\n",
    "    fig.savefig(os.path.join(FIGS_DIR, f'{filename}.png'))\n",
    "\n",
    "\n",
    "def plot_coverage(df: pd.DataFrame, filename: str):\n",
    "    fig, axs = plt.subplots(1, 3, figsize=(12, 3), sharey=True, layout='constrained')\n",
    "    alphas = ['0.01', '0.05', '0.1', '0.2']\n",
    "    for shape, ax in zip(('box', 'ellipse', 'picnn'), axs):\n",
    "        for model, color in COLOR_MAP.items():\n",
    "            try:\n",
    "                means = df.loc[(model, shape, 'mean'), alphas].values\n",
    "                stds = df.loc[(model, shape, 'std'), alphas].values\n",
    "                ax.plot(range(4), means, label=model, color=color)\n",
    "                ax.fill_between(range(4), means-stds, means+stds, alpha=0.3, color=color)\n",
    "            except:\n",
    "                pass\n",
    "\n",
    "        ax.plot(range(4), [0.99, 0.95, 0.9, 0.8], ls=':', color='black', label='optimal')\n",
    "        ax.set(xticks=range(4), xticklabels=alphas, xlabel='uncertainty level $\\\\alpha$', title=shape)\n",
    "        if shape == 'box':\n",
    "            ax.set(ylabel='coverage')\n",
    "\n",
    "    ax = axs[1]\n",
    "    handles, labels = ax.get_legend_handles_labels()\n",
    "    legend = fig.legend(handles, labels, loc='outside right center')\n",
    "    for text in legend.get_texts():\n",
    "        if text.get_text().startswith('E2E'):\n",
    "            text.set_fontweight('bold')\n",
    "    fig.savefig(os.path.join(FIGS_DIR, f'{filename}.pdf'))\n",
    "    fig.savefig(os.path.join(FIGS_DIR, f'{filename}.png'))"
   ]
  },
  {
   "cell_type": "markdown",
   "metadata": {},
   "source": [
    "## Storage dist-shift task loss"
   ]
  },
  {
   "cell_type": "code",
   "execution_count": null,
   "metadata": {},
   "outputs": [],
   "source": [
    "buf = io.StringIO(\n",
    "\"\"\"\n",
    "model,set,val,0.01,0.05,0.1,0.2\n",
    "ETO,box,mean,-17.450167,-21.299612,-22.91361,-24.726097\n",
    "ETO,box,std,2.158718,0.372012,0.57891,0.766728\n",
    "ETO,ellipse,mean,-8.637755,-13.995689,-14.642697,-15.240083\n",
    "ETO,ellipse,std,2.587513,1.264177,1.305358,1.368691\n",
    "ETO,picnn,mean,-6.766127,-11.066663,-12.151778,-12.950701\n",
    "ETO,picnn,std,3.075998,4.241612,4.582858,4.27471\n",
    "ETO-SLL,box,mean,-10.867236,-15.960863,-17.455506,-20.217888\n",
    "ETO-SLL,box,std,3.304253,1.158833,0.917278,1.211853\n",
    "ETO-SLL,ellipse,mean,-18.244101,-21.993499,-23.686633,-24.497868\n",
    "ETO-SLL,ellipse,std,2.049533,1.599452,1.661991,1.170572\n",
    "ETO-JC,ellipse,mean,-4.772606,-16.551971,-20.367132,-22.658602\n",
    "ETO-JC,ellipse,std,5.942747,2.157322,1.57894,1.204185\n",
    "E2E,box,mean,-20.4442,-23.5843,-24.5894,-25.7206\n",
    "E2E,box,std,3.9686,0.4579,0.5078,0.899\n",
    "E2E,ellipse,mean,-28.6046,-29.7657,-30.4725,-31.0868\n",
    "E2E,ellipse,std,1.2628,1.7897,1.4968,1.2415\n",
    "E2E,picnn,mean,-27.377843,-29.244593,-30.546455,-30.815375\n",
    "E2E,picnn,std,2.142963,2.064457,0.465653,0.206176\n",
    "\"\"\")\n",
    "df = pd.read_csv(buf).set_index(['model', 'set', 'val'])\n",
    "df"
   ]
  },
  {
   "cell_type": "code",
   "execution_count": null,
   "metadata": {},
   "outputs": [],
   "source": [
    "plot_task_loss(df, filename='storage_distshift_taskloss', optimal=-32.50498588)\n",
    "# plot_task_loss_regret(df, filename='storage_distshift_taskloss_regret', optimal=-32.50498588)"
   ]
  },
  {
   "cell_type": "markdown",
   "metadata": {},
   "source": [
    "## Storage shuffle task loss"
   ]
  },
  {
   "cell_type": "code",
   "execution_count": null,
   "metadata": {},
   "outputs": [],
   "source": [
    "buf = io.StringIO(\n",
    "\"\"\"\n",
    "model,set,val,0.01,0.05,0.1,0.2\n",
    "ETO,box,mean,-26.370909,-32.739807,-34.50698,-36.813602\n",
    "ETO,box,std,2.063016,1.03021,0.765397,0.765509\n",
    "ETO,ellipse,mean,-8.617506,-18.147022,-18.982848,-19.766314\n",
    "ETO,ellipse,std,5.701845,2.445104,2.417572,2.765179\n",
    "ETO,picnn,mean,-10.69,-16.25,-18.33,-19.77\n",
    "ETO,picnn,std,3.349,3.806,3.699,3.432\n",
    "ETO-SLL,box,mean,-12.880297,-24.462366,-28.001287,-31.287236\n",
    "ETO-SLL,box,std,7.369936,2.411725,2.636298,1.679142\n",
    "ETO-SLL,ellipse,mean,-24.20926,-28.872667,-30.773642,-32.595965\n",
    "ETO-SLL,ellipse,std,3.175815,2.860649,2.523238,1.593281\n",
    "ETO-JC,ellipse,mean,-9.041665,-27.972709,-33.052322,-35.686457\n",
    "ETO-JC,ellipse,std,7.61495,1.90364,2.425706,2.212662\n",
    "E2E,box,mean,-30.8399,-34.5764,-35.9106,-37.8004\n",
    "E2E,box,std,1.5141,0.5529,0.7764,0.6791\n",
    "E2E,ellipse,mean,-37.7843,-39.454,-39.7673,-40.9565\n",
    "E2E,ellipse,std,4.5091,4.3277,3.049,3.8543\n",
    "E2E,picnn,mean,-39.785395,-40.889996,-42.965304,-43.171177\n",
    "E2E,picnn,std,1.842494,3.473853,0.101937,0.100933\n",
    "\"\"\")\n",
    "df = pd.read_csv(buf).set_index(['model', 'set', 'val'])\n",
    "df"
   ]
  },
  {
   "cell_type": "code",
   "execution_count": null,
   "metadata": {},
   "outputs": [],
   "source": [
    "plot_task_loss(df, filename='storage_shuffle_taskloss', optimal=-45.4994702)\n",
    "# plot_task_loss_regret(df, filename='storage_shuffle_taskloss_regret', optimal=-45.4994702)"
   ]
  },
  {
   "cell_type": "markdown",
   "metadata": {},
   "source": [
    "## Storage dist-shift coverage"
   ]
  },
  {
   "cell_type": "code",
   "execution_count": null,
   "metadata": {},
   "outputs": [],
   "source": [
    "buf = io.StringIO(\n",
    "\"\"\"\n",
    "model,set,val,0.01,0.05,0.1,0.2\n",
    "ETO,box,mean,0.996347,0.959589,0.905023,0.775571\n",
    "ETO,box,std,0.003082,0.019164,0.035487,0.050356\n",
    "ETO,ellipse,mean,0.98379,0.874658,0.750457,0.561187\n",
    "ETO,ellipse,std,0.010404,0.063967,0.079775,0.081383\n",
    "ETO,picnn,mean,0.98516,0.865297,0.763699,0.633333\n",
    "ETO,picnn,std,0.015936,0.122482,0.17486,0.195958\n",
    "ETO-SLL,box,mean,0.995434,0.931507,0.787443,0.637671\n",
    "ETO-SLL,box,std,0.009864,0.03209,0.075204,0.094761\n",
    "ETO-SLL,ellipse,mean,0.933105,0.808447,0.640183,0.510959\n",
    "ETO-SLL,ellipse,std,0.066694,0.100597,0.095656,0.064718\n",
    "ETO-JC,ellipse,mean,1,0.995662,0.939726,0.814384\n",
    "ETO-JC,ellipse,std,0,0.004623,0.043053,0.064505\n",
    "E2E,box,mean,0.992,0.9347,0.8683,0.7441\n",
    "E2E,box,std,0.0068,0.03,0.0372,0.0511\n",
    "E2E,ellipse,mean,0.9918,0.8842,0.7813,0.6532\n",
    "E2E,ellipse,std,0.0081,0.0734,0.0767,0.1022\n",
    "E2E,picnn,mean,0.978082,0.893379,0.850228,0.689954\n",
    "E2E,picnn,std,0.027654,0.076635,0.061094,0.104074\n",
    "\"\"\")\n",
    "df = pd.read_csv(buf).set_index(['model', 'set', 'val'])\n",
    "df"
   ]
  },
  {
   "cell_type": "code",
   "execution_count": null,
   "metadata": {},
   "outputs": [],
   "source": [
    "plot_coverage(df, filename='storage_distshift_coverage')"
   ]
  },
  {
   "cell_type": "markdown",
   "metadata": {},
   "source": [
    "## Storage shuffle coverage"
   ]
  },
  {
   "cell_type": "code",
   "execution_count": null,
   "metadata": {},
   "outputs": [],
   "source": [
    "buf = io.StringIO(\n",
    "\"\"\"\n",
    "model,set,val,0.01,0.05,0.1,0.2\n",
    "ETO,box,mean,0.984932,0.931963,0.875571,0.778539\n",
    "ETO,box,std,0.007996,0.011975,0.018368,0.017815\n",
    "ETO,ellipse,mean,0.989498,0.943151,0.886986,0.781507\n",
    "ETO,ellipse,std,0.006107,0.012618,0.019794,0.027101\n",
    "ETO,picnn,mean,0.9879,0.9454,0.9018,0.8055\n",
    "ETO,picnn,std,0.007765,0.01598,0.01685,0.01913\n",
    "ETO-SLL,box,mean,0.992009,0.951142,0.9,0.778082\n",
    "ETO-SLL,box,std,0.007159,0.024334,0.032889,0.038185\n",
    "ETO-SLL,ellipse,mean,0.957078,0.871461,0.799772,0.705479\n",
    "ETO-SLL,ellipse,std,0.017906,0.038113,0.040457,0.035549\n",
    "ETO-JC,ellipse,mean,0.991781,0.938356,0.875342,0.768721\n",
    "ETO-JC,ellipse,std,0.002454,0.009566,0.018617,0.01611\n",
    "E2E,box,mean,0.9797,0.9199,0.8582,0.7658\n",
    "E2E,box,std,0.0091,0.0167,0.0235,0.0168\n",
    "E2E,ellipse,mean,0.9925,0.9516,0.91,0.7995\n",
    "E2E,ellipse,std,0.0052,0.0131,0.0138,0.0227\n",
    "E2E,picnn,mean,0.9879,0.949543,0.874201,0.761872\n",
    "E2E,picnn,std,0.004698,0.010679,0.016409,0.023704\n",
    "\"\"\")\n",
    "df = pd.read_csv(buf).set_index(['model', 'set', 'val'])\n",
    "df"
   ]
  },
  {
   "cell_type": "code",
   "execution_count": null,
   "metadata": {},
   "outputs": [],
   "source": [
    "plot_coverage(df, filename='storage_shuffle_coverage')"
   ]
  },
  {
   "cell_type": "markdown",
   "metadata": {},
   "source": [
    "## Portfolio synthetic task loss"
   ]
  },
  {
   "cell_type": "code",
   "execution_count": null,
   "metadata": {},
   "outputs": [],
   "source": [
    "buf = io.StringIO(\n",
    "\"\"\"\n",
    "model,set,val,0.01,0.05,0.1,0.2\n",
    "ETO,box,mean,-1.161178,-1.372686,-1.391445,-1.411191\n",
    "ETO,box,std,0.417279,0.118968,0.134566,0.118071\n",
    "ETO,ellipse,mean,-0.907793,-1.092547,-1.189434,-1.279274\n",
    "ETO,ellipse,std,0.081758,0.102121,0.098324,0.093977\n",
    "ETO,picnn,mean,-0.884407,-1.059457,-1.154048,-1.259902\n",
    "ETO,picnn,std,0.213987,0.168555,0.159744,0.11653\n",
    "ETO-SLL,box,mean,-1.4054,-1.416325,-1.420571,-1.436291\n",
    "ETO-SLL,box,std,0.132714,0.119232,0.116984,0.110968\n",
    "ETO-SLL,ellipse,mean,-0.840694,-1.015641,-1.2442,-1.386948\n",
    "ETO-SLL,ellipse,std,0.146894,0.173704,0.14569,0.127257\n",
    "ETO-JC,ellipse,mean,-0.86239,-1.10404,-1.315613,-1.424665\n",
    "ETO-JC,ellipse,std,0.094252,0.118496,0.126147,0.106042\n",
    "E2E,box,mean,-1.188,-1.387,-1.413,-1.425\n",
    "E2E,box,std,0.4253,0.1119,0.1121,0.09528\n",
    "E2E,ellipse,mean,-1.4558,-1.4653,-1.4646,-1.4703\n",
    "E2E,ellipse,std,0.1217,0.1147,0.1139,0.1017\n",
    "E2E,picnn,mean,-1.468,-1.466,-1.467,-1.472\n",
    "E2E,picnn,std,0.09566,0.09204,0.114,0.1017\n",
    "\"\"\")\n",
    "df = pd.read_csv(buf).set_index(['model', 'set', 'val'])\n",
    "df"
   ]
  },
  {
   "cell_type": "code",
   "execution_count": null,
   "metadata": {},
   "outputs": [],
   "source": [
    "plot_task_loss(df, filename='portfolio_syn_taskloss', optimal=(-1.933641, 0.084673))"
   ]
  },
  {
   "cell_type": "code",
   "execution_count": null,
   "metadata": {},
   "outputs": [],
   "source": [
    "buf = io.StringIO(\n",
    "\"\"\"\n",
    "model,set,val,0.01,0.05,0.1,0.2\n",
    "ETO,box,mean,0.9841,0.9472,0.902,0.7862\n",
    "ETO,box,std,0.00743,0.017358,0.016806,0.020308\n",
    "ETO,ellipse,mean,0.9883,0.9438,0.8941,0.794\n",
    "ETO,ellipse,std,0.003974,0.019977,0.021605,0.026733\n",
    "ETO,picnn,mean,0.9911,0.953,0.9047,0.8071\n",
    "ETO,picnn,std,0.00599,0.013482,0.018968,0.017195\n",
    "ETO-SLL,box,mean,0.9848,0.9452,0.8846,0.7959\n",
    "ETO-SLL,box,std,0.012363,0.020682,0.02971,0.029248\n",
    "ETO-SLL,ellipse,mean,0.9911,0.9464,0.8868,0.7955\n",
    "ETO-SLL,ellipse,std,0.009073,0.028005,0.040052,0.03601\n",
    "ETO-JC,ellipse,mean,0.9914,0.953,0.902,0.7958\n",
    "ETO-JC,ellipse,std,0.006433,0.016951,0.02563,0.026102\n",
    "E2E,box,mean,0.9851,0.9472,0.9065,0.7873\n",
    "E2E,box,std,0.007295,0.01807,0.0123,0.01729\n",
    "E2E,ellipse,mean,0.9904,0.9577,0.8987,0.7926\n",
    "E2E,ellipse,std,0.0071,0.0144,0.0256,0.0351\n",
    "E2E,picnn,mean,0.9906,0.9541,0.8957,0.805\n",
    "E2E,picnn,std,0.006415,0.01051,0.01347,0.02662\n",
    "\"\"\")\n",
    "df = pd.read_csv(buf).set_index(['model', 'set', 'val'])\n",
    "df"
   ]
  },
  {
   "cell_type": "code",
   "execution_count": null,
   "metadata": {},
   "outputs": [],
   "source": [
    "plot_coverage(df, filename='portfolio_syn_coverage')"
   ]
  }
 ],
 "metadata": {
  "kernelspec": {
   "display_name": "dauq",
   "language": "python",
   "name": "python3"
  },
  "language_info": {
   "codemirror_mode": {
    "name": "ipython",
    "version": 3
   },
   "file_extension": ".py",
   "mimetype": "text/x-python",
   "name": "python",
   "nbconvert_exporter": "python",
   "pygments_lexer": "ipython3",
   "version": "3.12.4"
  }
 },
 "nbformat": 4,
 "nbformat_minor": 2
}
